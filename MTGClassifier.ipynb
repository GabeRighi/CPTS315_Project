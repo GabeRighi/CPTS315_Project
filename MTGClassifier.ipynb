{
 "cells": [
  {
   "cell_type": "code",
   "execution_count": 1,
   "id": "dc4bd1b0",
   "metadata": {},
   "outputs": [],
   "source": [
    "import numpy as np\n",
    "import matplotlib.pyplot as plt\n",
    "#from sklearn.datasets.samples_generator import make_blobs, make_circles\n",
    "from sklearn.datasets import make_blobs, make_circles\n",
    "from matplotlib import lines\n",
    "from mpl_toolkits.mplot3d import Axes3D\n",
    "import json\n",
    "import math"
   ]
  },
  {
   "cell_type": "code",
   "execution_count": 3,
   "id": "aa9d889e",
   "metadata": {},
   "outputs": [
    {
     "name": "stdout",
     "output_type": "stream",
     "text": [
      "Loaded the Price of 71598/79853 cards\n",
      "Loaded data of 61572/85169 cards\n"
     ]
    }
   ],
   "source": [
    "def loadPrices(pricePath):\n",
    "    with open(pricePath, \"r\") as priceFile:\n",
    "        uuidToPrice = {}\n",
    "        prices = json.load(priceFile)\n",
    "        prices = prices['data']\n",
    "        nonfoils = set() #Debug Sets\n",
    "        foils = set()\n",
    "        nones = set()\n",
    "        for i in prices:\n",
    "            if 'paper' in prices[i]:\n",
    "                for vendor in prices[i]['paper']:\n",
    "                    priced = False\n",
    "                    for sellType in ['retail', 'buylist']:\n",
    "                        if sellType in prices[i]['paper'][vendor]:\n",
    "                            if 'normal' in prices[i]['paper'][vendor][sellType]:\n",
    "                                uuidToPrice[i] = list(prices[i]['paper'][vendor][sellType]['normal'].values())[-1]\n",
    "                                nonfoils.add(i)\n",
    "                                priced = True\n",
    "                                break\n",
    "                            elif 'foil' in prices[i]['paper'][vendor][sellType]:\n",
    "                                uuidToPrice[i] = list(prices[i]['paper'][vendor][sellType]['foil'].values())[-1]\n",
    "                                foils.add(i)\n",
    "                                priced = True\n",
    "                                break\n",
    "                            else:\n",
    "                                print(f\"No foil or nonfoil {i}\")\n",
    "                    if not priced:\n",
    "                        nones.add(i)\n",
    "        print(f\"Loaded the Price of {len(uuidToPrice)}/{len(prices)} cards\")\n",
    "        return uuidToPrice\n",
    "\n",
    "def loadCards(priceDict, cardPath):\n",
    "    with open(cardPath, mode=\"r\", encoding='utf-8') as cardFile:\n",
    "        uuidToCardData = {}\n",
    "        data = json.load(cardFile)\n",
    "        data = data['data']\n",
    "        priceMisses = set()\n",
    "        for i in data:\n",
    "            if data[i]['language'] == 'English' and 'legalities' in data[i] and 'MOM' not in data[i]['printings'] and i in priceDict and len(data[i]['legalities']) != 0:\n",
    "                uuidToCardData[i] = data[i]\n",
    "            if i not in priceDict:\n",
    "                priceMisses.add(i)\n",
    "        print(f\"Loaded data of {len(uuidToCardData)}/{len(data)} cards\")\n",
    "        return uuidToCardData\n",
    "\n",
    "mtgCardsPath = \"../AllIdentifiers.json\"\n",
    "mtgPricesPath = \"../AllPrices.json\"\n",
    "uuidToPrice = loadPrices(mtgPricesPath)\n",
    "uuidToCard = loadCards(uuidToPrice,mtgCardsPath)"
   ]
  },
  {
   "cell_type": "code",
   "execution_count": 5,
   "id": "a669f045",
   "metadata": {},
   "outputs": [],
   "source": [
    "from sklearn.manifold import TSNE\n",
    "import pandas as pd\n",
    "import seaborn as sns"
   ]
  },
  {
   "cell_type": "code",
   "execution_count": 6,
   "id": "b68abade",
   "metadata": {},
   "outputs": [],
   "source": [
    "card_df = pd.DataFrame(uuidToCard.items())\n",
    "price_df = pd.DataFrame(uuidToPrice.items())"
   ]
  },
  {
   "cell_type": "code",
   "execution_count": 7,
   "id": "d28fc389",
   "metadata": {},
   "outputs": [],
   "source": [
    "card_df = card_df.rename(columns={0:\"uuid\", 1:\"data\"})\n",
    "price_df = price_df.rename(columns={0:\"uuid\", 1:\"price\"})"
   ]
  },
  {
   "cell_type": "code",
   "execution_count": 8,
   "id": "dd6d472a",
   "metadata": {},
   "outputs": [],
   "source": [
    "card_price_df = card_df.merge(price_df, on=[\"uuid\", \"uuid\"])\n",
    "card_price_df = card_price_df.dropna(how='any',axis=0)"
   ]
  },
  {
   "cell_type": "code",
   "execution_count": 7,
   "id": "84a65a24",
   "metadata": {},
   "outputs": [
    {
     "data": {
      "text/html": [
       "<div>\n",
       "<style scoped>\n",
       "    .dataframe tbody tr th:only-of-type {\n",
       "        vertical-align: middle;\n",
       "    }\n",
       "\n",
       "    .dataframe tbody tr th {\n",
       "        vertical-align: top;\n",
       "    }\n",
       "\n",
       "    .dataframe thead th {\n",
       "        text-align: right;\n",
       "    }\n",
       "</style>\n",
       "<table border=\"1\" class=\"dataframe\">\n",
       "  <thead>\n",
       "    <tr style=\"text-align: right;\">\n",
       "      <th></th>\n",
       "      <th>uuid</th>\n",
       "      <th>data</th>\n",
       "      <th>price</th>\n",
       "    </tr>\n",
       "  </thead>\n",
       "  <tbody>\n",
       "    <tr>\n",
       "      <th>0</th>\n",
       "      <td>00010d56-fe38-5e35-8aed-518019aa36a5</td>\n",
       "      <td>{'artist': 'Lius Lasahido', 'availability': ['...</td>\n",
       "      <td>10.22</td>\n",
       "    </tr>\n",
       "    <tr>\n",
       "      <th>1</th>\n",
       "      <td>0001e0d0-2dcd-5640-aadc-a84765cf5fc9</td>\n",
       "      <td>{'artist': 'Jesper Myrfors', 'availability': [...</td>\n",
       "      <td>5.12</td>\n",
       "    </tr>\n",
       "    <tr>\n",
       "      <th>2</th>\n",
       "      <td>0003caab-9ff5-5d1a-bc06-976dd0457f19</td>\n",
       "      <td>{'artist': 'Drew Baker', 'availability': ['mtg...</td>\n",
       "      <td>4.35</td>\n",
       "    </tr>\n",
       "    <tr>\n",
       "      <th>3</th>\n",
       "      <td>0003d249-25d9-5223-af1e-1130f09622a7</td>\n",
       "      <td>{'artist': 'Jason Chan', 'availability': ['mtg...</td>\n",
       "      <td>0.24</td>\n",
       "    </tr>\n",
       "    <tr>\n",
       "      <th>4</th>\n",
       "      <td>0004a4fb-92c6-59b2-bdbe-ceb584a9e401</td>\n",
       "      <td>{'artist': 'Scott M. Fischer', 'availability':...</td>\n",
       "      <td>3.08</td>\n",
       "    </tr>\n",
       "    <tr>\n",
       "      <th>...</th>\n",
       "      <td>...</td>\n",
       "      <td>...</td>\n",
       "      <td>...</td>\n",
       "    </tr>\n",
       "    <tr>\n",
       "      <th>61567</th>\n",
       "      <td>fffa4546-e7ac-5291-b878-2e66ea1b1dfa</td>\n",
       "      <td>{'artist': 'Aaron Miller', 'availability': ['m...</td>\n",
       "      <td>0.22</td>\n",
       "    </tr>\n",
       "    <tr>\n",
       "      <th>61568</th>\n",
       "      <td>fffa4ccf-733e-513a-98f9-181b9549de62</td>\n",
       "      <td>{'artist': 'Christine Choi', 'availability': [...</td>\n",
       "      <td>6.59</td>\n",
       "    </tr>\n",
       "    <tr>\n",
       "      <th>61569</th>\n",
       "      <td>fffa9242-6444-567c-a45b-da2b45249232</td>\n",
       "      <td>{'artist': 'Bastien L. Deharme', 'availability...</td>\n",
       "      <td>0.67</td>\n",
       "    </tr>\n",
       "    <tr>\n",
       "      <th>61570</th>\n",
       "      <td>fffb659e-b3fa-5cd8-9423-fe5ac74248b5</td>\n",
       "      <td>{'artist': 'Dan Scott', 'availability': ['pape...</td>\n",
       "      <td>0.26</td>\n",
       "    </tr>\n",
       "    <tr>\n",
       "      <th>61571</th>\n",
       "      <td>fffbc95a-c4d1-56aa-8653-8a7c71fe19ce</td>\n",
       "      <td>{'artist': 'Nic Klein', 'availability': ['mtgo...</td>\n",
       "      <td>5.27</td>\n",
       "    </tr>\n",
       "  </tbody>\n",
       "</table>\n",
       "<p>61572 rows × 3 columns</p>\n",
       "</div>"
      ],
      "text/plain": [
       "                                       uuid  \\\n",
       "0      00010d56-fe38-5e35-8aed-518019aa36a5   \n",
       "1      0001e0d0-2dcd-5640-aadc-a84765cf5fc9   \n",
       "2      0003caab-9ff5-5d1a-bc06-976dd0457f19   \n",
       "3      0003d249-25d9-5223-af1e-1130f09622a7   \n",
       "4      0004a4fb-92c6-59b2-bdbe-ceb584a9e401   \n",
       "...                                     ...   \n",
       "61567  fffa4546-e7ac-5291-b878-2e66ea1b1dfa   \n",
       "61568  fffa4ccf-733e-513a-98f9-181b9549de62   \n",
       "61569  fffa9242-6444-567c-a45b-da2b45249232   \n",
       "61570  fffb659e-b3fa-5cd8-9423-fe5ac74248b5   \n",
       "61571  fffbc95a-c4d1-56aa-8653-8a7c71fe19ce   \n",
       "\n",
       "                                                    data  price  \n",
       "0      {'artist': 'Lius Lasahido', 'availability': ['...  10.22  \n",
       "1      {'artist': 'Jesper Myrfors', 'availability': [...   5.12  \n",
       "2      {'artist': 'Drew Baker', 'availability': ['mtg...   4.35  \n",
       "3      {'artist': 'Jason Chan', 'availability': ['mtg...   0.24  \n",
       "4      {'artist': 'Scott M. Fischer', 'availability':...   3.08  \n",
       "...                                                  ...    ...  \n",
       "61567  {'artist': 'Aaron Miller', 'availability': ['m...   0.22  \n",
       "61568  {'artist': 'Christine Choi', 'availability': [...   6.59  \n",
       "61569  {'artist': 'Bastien L. Deharme', 'availability...   0.67  \n",
       "61570  {'artist': 'Dan Scott', 'availability': ['pape...   0.26  \n",
       "61571  {'artist': 'Nic Klein', 'availability': ['mtgo...   5.27  \n",
       "\n",
       "[61572 rows x 3 columns]"
      ]
     },
     "execution_count": 7,
     "metadata": {},
     "output_type": "execute_result"
    }
   ],
   "source": [
    "card_price_df"
   ]
  },
  {
   "cell_type": "code",
   "execution_count": 9,
   "id": "96e205c0",
   "metadata": {},
   "outputs": [
    {
     "name": "stdout",
     "output_type": "stream",
     "text": [
      "         0    1    2    3    4    5    6\n",
      "0      0.0  0.0  0.0  1.0  0.0  7.0  0.0\n",
      "1      0.0  0.0  1.0  0.0  0.0  3.0  1.0\n",
      "2      1.0  0.0  0.0  0.0  0.0  1.0  0.0\n",
      "3      1.0  0.0  0.0  0.0  0.0  5.0  1.0\n",
      "4      0.0  1.0  0.0  0.0  0.0  3.0  1.0\n",
      "...    ...  ...  ...  ...  ...  ...  ...\n",
      "61567  0.0  1.0  0.0  0.0  0.0  3.0  1.0\n",
      "61568  0.0  1.0  0.0  0.0  0.0  0.0  0.0\n",
      "61569  0.0  0.0  1.0  0.0  0.0  5.0  1.0\n",
      "61570  0.0  0.0  1.0  0.0  0.0  3.0  0.0\n",
      "61571  0.0  1.0  0.0  0.0  0.0  1.0  0.0\n",
      "\n",
      "[61572 rows x 7 columns]\n"
     ]
    }
   ],
   "source": [
    "import random\n",
    "def card_to_feature_vector(card):\n",
    "    rarities = {\n",
    "        \"common\": 0,\n",
    "        \"uncommon\": 1,\n",
    "        \"rare\": 2,\n",
    "        \"mythic\": 3,\n",
    "        \"special\": 4\n",
    "    }\n",
    "    \n",
    "    out = [0] * 7\n",
    "    out[rarities[card[\"data\"][\"rarity\"]]] = 1\n",
    "    out[5] = card[\"data\"].get(\"convertedManaCost\", 0)\n",
    "    out[6] = random.randint(0,1)\n",
    "    return out\n",
    "\n",
    "featurized_df = card_price_df[[\"uuid\", \"data\"]].copy()\n",
    "featurized_df = featurized_df.apply(card_to_feature_vector, axis=1, result_type='expand')\n",
    "labels = card_price_df[\"price\"].apply(lambda p: math.floor(p))\n",
    "print(featurized_df)"
   ]
  },
  {
   "cell_type": "code",
   "execution_count": 10,
   "id": "ca4153ee",
   "metadata": {},
   "outputs": [
    {
     "name": "stdout",
     "output_type": "stream",
     "text": [
      "Train Accuracy =  0.595\n",
      "Test Accuracy =  0.6016240357287861\n"
     ]
    }
   ],
   "source": [
    "from sklearn.model_selection import train_test_split\n",
    "from sklearn.manifold import TSNE\n",
    "from sklearn.svm import SVC\n",
    "from sklearn.metrics import accuracy_score\n",
    "\n",
    "\n",
    "#n_components = 2\n",
    "#tsne = TSNE(n_components)\n",
    "#tsne_result = tsne.fit_transform(featurized_df)\n",
    "\n",
    "train, test, train_labels, test_labels = train_test_split(featurized_df,\n",
    "                                                          labels,\n",
    "                                                          test_size=0.2,\n",
    "                                                          random_state=42)\n",
    "\n",
    "train = train.head(1000)\n",
    "train_labels = train_labels.head(1000)\n",
    "\n",
    "# Initialize our classifier\n",
    "clf = SVC()\n",
    "\n",
    "# Train our classifier\n",
    "model = clf.fit(train, train_labels)\n",
    "\n",
    "#Make predictions\n",
    "pred_train = model.predict(train)\n",
    "pred_test = model.predict(test)  \n",
    "\n",
    "print('Train Accuracy = ',accuracy_score(train_labels,pred_train.round()))\n",
    "print('Test Accuracy = ',accuracy_score(test_labels,pred_test.round()))"
   ]
  },
  {
   "cell_type": "code",
   "execution_count": 14,
   "id": "e7597bcc",
   "metadata": {
    "scrolled": false
   },
   "outputs": [
    {
     "ename": "ValueError",
     "evalue": "Classification metrics can't handle a mix of multiclass and continuous targets",
     "output_type": "error",
     "traceback": [
      "\u001b[1;31m---------------------------------------------------------------------------\u001b[0m",
      "\u001b[1;31mValueError\u001b[0m                                Traceback (most recent call last)",
      "Cell \u001b[1;32mIn[14], line 26\u001b[0m\n\u001b[0;32m     23\u001b[0m preds \u001b[38;5;241m=\u001b[39m clf\u001b[38;5;241m.\u001b[39mpredict(test)\n\u001b[0;32m     25\u001b[0m \u001b[38;5;66;03m# Evaluate accuracy\u001b[39;00m\n\u001b[1;32m---> 26\u001b[0m \u001b[38;5;28mprint\u001b[39m(\u001b[43maccuracy_score\u001b[49m\u001b[43m(\u001b[49m\u001b[43mtest_labels\u001b[49m\u001b[43m,\u001b[49m\u001b[43m \u001b[49m\u001b[43mpreds\u001b[49m\u001b[43m)\u001b[49m)\n",
      "File \u001b[1;32m~\\anaconda3\\lib\\site-packages\\sklearn\\utils\\_param_validation.py:192\u001b[0m, in \u001b[0;36mvalidate_params.<locals>.decorator.<locals>.wrapper\u001b[1;34m(*args, **kwargs)\u001b[0m\n\u001b[0;32m    187\u001b[0m validate_parameter_constraints(\n\u001b[0;32m    188\u001b[0m     parameter_constraints, params, caller_name\u001b[38;5;241m=\u001b[39mfunc\u001b[38;5;241m.\u001b[39m\u001b[38;5;18m__qualname__\u001b[39m\n\u001b[0;32m    189\u001b[0m )\n\u001b[0;32m    191\u001b[0m \u001b[38;5;28;01mtry\u001b[39;00m:\n\u001b[1;32m--> 192\u001b[0m     \u001b[38;5;28;01mreturn\u001b[39;00m func(\u001b[38;5;241m*\u001b[39margs, \u001b[38;5;241m*\u001b[39m\u001b[38;5;241m*\u001b[39mkwargs)\n\u001b[0;32m    193\u001b[0m \u001b[38;5;28;01mexcept\u001b[39;00m InvalidParameterError \u001b[38;5;28;01mas\u001b[39;00m e:\n\u001b[0;32m    194\u001b[0m     \u001b[38;5;66;03m# When the function is just a wrapper around an estimator, we allow\u001b[39;00m\n\u001b[0;32m    195\u001b[0m     \u001b[38;5;66;03m# the function to delegate validation to the estimator, but we replace\u001b[39;00m\n\u001b[0;32m    196\u001b[0m     \u001b[38;5;66;03m# the name of the estimator by the name of the function in the error\u001b[39;00m\n\u001b[0;32m    197\u001b[0m     \u001b[38;5;66;03m# message to avoid confusion.\u001b[39;00m\n\u001b[0;32m    198\u001b[0m     msg \u001b[38;5;241m=\u001b[39m re\u001b[38;5;241m.\u001b[39msub(\n\u001b[0;32m    199\u001b[0m         \u001b[38;5;124mr\u001b[39m\u001b[38;5;124m\"\u001b[39m\u001b[38;5;124mparameter of \u001b[39m\u001b[38;5;124m\\\u001b[39m\u001b[38;5;124mw+ must be\u001b[39m\u001b[38;5;124m\"\u001b[39m,\n\u001b[0;32m    200\u001b[0m         \u001b[38;5;124mf\u001b[39m\u001b[38;5;124m\"\u001b[39m\u001b[38;5;124mparameter of \u001b[39m\u001b[38;5;132;01m{\u001b[39;00mfunc\u001b[38;5;241m.\u001b[39m\u001b[38;5;18m__qualname__\u001b[39m\u001b[38;5;132;01m}\u001b[39;00m\u001b[38;5;124m must be\u001b[39m\u001b[38;5;124m\"\u001b[39m,\n\u001b[0;32m    201\u001b[0m         \u001b[38;5;28mstr\u001b[39m(e),\n\u001b[0;32m    202\u001b[0m     )\n",
      "File \u001b[1;32m~\\anaconda3\\lib\\site-packages\\sklearn\\metrics\\_classification.py:221\u001b[0m, in \u001b[0;36maccuracy_score\u001b[1;34m(y_true, y_pred, normalize, sample_weight)\u001b[0m\n\u001b[0;32m    155\u001b[0m \u001b[38;5;124;03m\"\"\"Accuracy classification score.\u001b[39;00m\n\u001b[0;32m    156\u001b[0m \n\u001b[0;32m    157\u001b[0m \u001b[38;5;124;03mIn multilabel classification, this function computes subset accuracy:\u001b[39;00m\n\u001b[1;32m   (...)\u001b[0m\n\u001b[0;32m    217\u001b[0m \u001b[38;5;124;03m0.5\u001b[39;00m\n\u001b[0;32m    218\u001b[0m \u001b[38;5;124;03m\"\"\"\u001b[39;00m\n\u001b[0;32m    220\u001b[0m \u001b[38;5;66;03m# Compute accuracy for each possible representation\u001b[39;00m\n\u001b[1;32m--> 221\u001b[0m y_type, y_true, y_pred \u001b[38;5;241m=\u001b[39m \u001b[43m_check_targets\u001b[49m\u001b[43m(\u001b[49m\u001b[43my_true\u001b[49m\u001b[43m,\u001b[49m\u001b[43m \u001b[49m\u001b[43my_pred\u001b[49m\u001b[43m)\u001b[49m\n\u001b[0;32m    222\u001b[0m check_consistent_length(y_true, y_pred, sample_weight)\n\u001b[0;32m    223\u001b[0m \u001b[38;5;28;01mif\u001b[39;00m y_type\u001b[38;5;241m.\u001b[39mstartswith(\u001b[38;5;124m\"\u001b[39m\u001b[38;5;124mmultilabel\u001b[39m\u001b[38;5;124m\"\u001b[39m):\n",
      "File \u001b[1;32m~\\anaconda3\\lib\\site-packages\\sklearn\\metrics\\_classification.py:95\u001b[0m, in \u001b[0;36m_check_targets\u001b[1;34m(y_true, y_pred)\u001b[0m\n\u001b[0;32m     92\u001b[0m     y_type \u001b[38;5;241m=\u001b[39m {\u001b[38;5;124m\"\u001b[39m\u001b[38;5;124mmulticlass\u001b[39m\u001b[38;5;124m\"\u001b[39m}\n\u001b[0;32m     94\u001b[0m \u001b[38;5;28;01mif\u001b[39;00m \u001b[38;5;28mlen\u001b[39m(y_type) \u001b[38;5;241m>\u001b[39m \u001b[38;5;241m1\u001b[39m:\n\u001b[1;32m---> 95\u001b[0m     \u001b[38;5;28;01mraise\u001b[39;00m \u001b[38;5;167;01mValueError\u001b[39;00m(\n\u001b[0;32m     96\u001b[0m         \u001b[38;5;124m\"\u001b[39m\u001b[38;5;124mClassification metrics can\u001b[39m\u001b[38;5;124m'\u001b[39m\u001b[38;5;124mt handle a mix of \u001b[39m\u001b[38;5;132;01m{0}\u001b[39;00m\u001b[38;5;124m and \u001b[39m\u001b[38;5;132;01m{1}\u001b[39;00m\u001b[38;5;124m targets\u001b[39m\u001b[38;5;124m\"\u001b[39m\u001b[38;5;241m.\u001b[39mformat(\n\u001b[0;32m     97\u001b[0m             type_true, type_pred\n\u001b[0;32m     98\u001b[0m         )\n\u001b[0;32m     99\u001b[0m     )\n\u001b[0;32m    101\u001b[0m \u001b[38;5;66;03m# We can't have more than one value on y_type => The set is no more needed\u001b[39;00m\n\u001b[0;32m    102\u001b[0m y_type \u001b[38;5;241m=\u001b[39m y_type\u001b[38;5;241m.\u001b[39mpop()\n",
      "\u001b[1;31mValueError\u001b[0m: Classification metrics can't handle a mix of multiclass and continuous targets"
     ]
    }
   ],
   "source": [
    "from sklearn.model_selection import train_test_split\n",
    "from sklearn.manifold import TSNE\n",
    "from sklearn.ensemble import RandomForestRegressor\n",
    "from sklearn.metrics import accuracy_score\n",
    "\n",
    "\n",
    "#n_components = 2\n",
    "#tsne = TSNE(n_components)\n",
    "#tsne_result = tsne.fit_transform(featurized_df)\n",
    "\n",
    "train, test, train_labels, test_labels = train_test_split(featurized_df,\n",
    "                                                          labels,\n",
    "                                                          test_size=0.2,\n",
    "                                                          random_state=42)\n",
    "\n",
    "\n",
    "# Initialize our classifier\n",
    "clf = RandomForestRegressor()\n",
    "\n",
    "# Train our classifier\n",
    "model = clf.fit(train.head(1000), train_labels.head(1000))\n",
    "\n",
    "pred_train = clf.predict(test)\n",
    "\n",
    "# Evaluate accuracy\n",
    "print(accuracy_score(y, np.argmax(pred_train, axis=1)))"
   ]
  },
  {
   "cell_type": "code",
   "execution_count": 64,
   "id": "338ac7e3",
   "metadata": {},
   "outputs": [
    {
     "data": {
      "text/plain": [
       "<matplotlib.legend.Legend at 0x1aae7f294e0>"
      ]
     },
     "execution_count": 64,
     "metadata": {},
     "output_type": "execute_result"
    },
    {
     "data": {
      "image/png": "[encoded data removed]",
      "text/plain": [
       "<Figure size 640x480 with 1 Axes>"
      ]
     },
     "metadata": {},
     "output_type": "display_data"
    }
   ],
   "source": []
  },
  {
   "cell_type": "code",
   "execution_count": null,
   "id": "25b9e038",
   "metadata": {},
   "outputs": [],
   "source": []
  }
 ],
 "metadata": {
  "kernelspec": {
   "display_name": "Python 3 (ipykernel)",
   "language": "python",
   "name": "python3"
  },
  "language_info": {
   "codemirror_mode": {
    "name": "ipython",
    "version": 3
   },
   "file_extension": ".py",
   "mimetype": "text/x-python",
   "name": "python",
   "nbconvert_exporter": "python",
   "pygments_lexer": "ipython3",
   "version": "3.10.9"
  }
 },
 "nbformat": 4,
 "nbformat_minor": 5
}
